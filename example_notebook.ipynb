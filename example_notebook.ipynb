{
 "cells": [
  {
   "cell_type": "markdown",
   "metadata": {},
   "source": [
    "# Example of MonteCarlo BatchNormalization model in Cifar10"
   ]
  },
  {
   "cell_type": "code",
   "execution_count": 2,
   "metadata": {},
   "outputs": [],
   "source": [
    "import torch\n",
    "import mcbn\n",
    "import utils"
   ]
  },
  {
   "cell_type": "code",
   "execution_count": null,
   "metadata": {},
   "outputs": [],
   "source": [
    "N_ENS = 10 #number of samples\n",
    "BATCH_SIZE_TRAIN = 50\n",
    "BATCH_SIZE_TEST = 100"
   ]
  },
  {
   "cell_type": "code",
   "execution_count": 4,
   "metadata": {},
   "outputs": [
    {
     "name": "stdout",
     "output_type": "stream",
     "text": [
      "False\n"
     ]
    }
   ],
   "source": [
    "# Define GPU\n",
    "print(torch.cuda.is_available())\n",
    "dev = torch.device('cuda') if torch.cuda.is_available() else torch.device('cpu')"
   ]
  },
  {
   "cell_type": "code",
   "execution_count": null,
   "metadata": {},
   "outputs": [],
   "source": [
    "def predicted_class(y_pred):\n",
    "    '''Returns the predicted class for a given softmax output.'''\n",
    "    if y_pred.shape[-1] == 1:\n",
    "        y_pred = y_pred.view(-1)\n",
    "        y_pred = (y_pred>0.5).float()\n",
    "        \n",
    "    else:\n",
    "        y_pred = torch.max(y_pred, 1)[1]\n",
    "    return y_pred\n",
    "\n",
    "def correct_class(y_pred,y_true):\n",
    "    '''Returns a bool tensor indicating if each prediction is correct'''\n",
    "\n",
    "    y_pred = predicted_class(y_pred)\n",
    "    correct = (y_pred==y_true)\n",
    "    \n",
    "    return correct\n",
    "\n",
    "def correct_total(y_pred,y_true):\n",
    "    '''Returns the number of correct predictions in a batch where dk_mask=0'''\n",
    "    correct = correct_class(y_pred,y_true)\n",
    "    correct_total = torch.sum(correct).item()\n",
    "    return correct_total\n",
    "\n",
    "def model_acc(model,data):\n",
    "    '''Returns the total accuracy of model in some dataset'''\n",
    "    with torch.no_grad():\n",
    "        dev = next(model.parameters()).device\n",
    "        total = 0\n",
    "        correct= 0\n",
    "        for image,label in data:\n",
    "            image,label = image.to(dev), label.to(dev)\n",
    "            output = model(image)\n",
    "            total += label.size(0)\n",
    "            correct += correct_total(output,label)\n",
    "    return (correct*100/total)"
   ]
  },
  {
   "cell_type": "markdown",
   "metadata": {},
   "source": [
    "## Data"
   ]
  },
  {
   "cell_type": "code",
   "execution_count": null,
   "metadata": {},
   "outputs": [],
   "source": [
    "import torch.utils.data\n",
    "import torchvision\n",
    "import torchvision.transforms as transforms\n",
    "import torchvision.datasets as datasets\n",
    "\n",
    "normalize = transforms.Normalize(mean=[0.485, 0.456, 0.406],\n",
    "                                     std=[0.229, 0.224, 0.225])\n",
    "test_loader = torch.utils.data.DataLoader(\n",
    "        datasets.CIFAR10(root='./data', train=False, transform=transforms.Compose([\n",
    "            transforms.ToTensor(),\n",
    "            normalize,\n",
    "        ])),\n",
    "        batch_size=BATCH_SIZE_TRAIN, shuffle=False,\n",
    "        num_workers=2, pin_memory=True)\n",
    "train_loader = torch.utils.data.DataLoader(\n",
    "        datasets.CIFAR10(root='./data', train=True, transform=transforms.Compose([\n",
    "            transforms.RandomHorizontalFlip(),\n",
    "            transforms.RandomCrop(32, 4),\n",
    "            transforms.ToTensor(),\n",
    "            normalize,\n",
    "        ]), download=True),\n",
    "        batch_size=BATCH_SIZE_TEST, shuffle=True,\n",
    "        num_workers=2, pin_memory=True)"
   ]
  },
  {
   "cell_type": "markdown",
   "metadata": {},
   "source": [
    "## Pseudo model\n",
    "\n",
    "Change it to a trained model"
   ]
  },
  {
   "cell_type": "code",
   "execution_count": null,
   "metadata": {},
   "outputs": [],
   "source": [
    "model = torch.hub.load('pytorch/vision:v0.10.0', 'vgg16_bn', pretrained=True)\n",
    "input_lastLayer = model.classifier[6].in_features\n",
    "model.classifier[6] = torch.nn.Linear(input_lastLayer,10)\n",
    "model.eval()"
   ]
  },
  {
   "cell_type": "markdown",
   "metadata": {},
   "source": [
    "## MCBN model"
   ]
  },
  {
   "cell_type": "code",
   "execution_count": null,
   "metadata": {},
   "outputs": [],
   "source": [
    "model_mcbn = mcbn.MCBN_Ensemble(model,N_ENS,train_loader,return_average = False).to(dev)\n",
    "#return_average = False so we can see output's shape"
   ]
  },
  {
   "cell_type": "code",
   "execution_count": null,
   "metadata": {},
   "outputs": [],
   "source": [
    "im,_ = next(iter(test_loader))\n",
    "im = im.to(dev)\n",
    "output = model_mcbn(im)\n",
    "print(output.shape)"
   ]
  },
  {
   "cell_type": "markdown",
   "metadata": {},
   "source": [
    "## Model as ensemble: Accuracy"
   ]
  },
  {
   "cell_type": "code",
   "execution_count": null,
   "metadata": {},
   "outputs": [],
   "source": [
    "model_mcbn.return_average = True\n",
    "print(model_acc(model_mcbn,test_loader))"
   ]
  }
 ],
 "metadata": {
  "kernelspec": {
   "display_name": "Python 3.10.5 64-bit (windows store)",
   "language": "python",
   "name": "python3"
  },
  "language_info": {
   "codemirror_mode": {
    "name": "ipython",
    "version": 3
   },
   "file_extension": ".py",
   "mimetype": "text/x-python",
   "name": "python",
   "nbconvert_exporter": "python",
   "pygments_lexer": "ipython3",
   "version": "3.10.5"
  },
  "orig_nbformat": 4,
  "vscode": {
   "interpreter": {
    "hash": "ab965b5af4f4d42bb936295cd5a0c2d688aded13b54e36b6086493713f37a730"
   }
  }
 },
 "nbformat": 4,
 "nbformat_minor": 2
}
